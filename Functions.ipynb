{
 "cells": [
  {
   "cell_type": "markdown",
   "id": "1bb94fbd-dbad-4ac3-9357-abf77c725d16",
   "metadata": {},
   "source": [
    "# ** *args and **kwargs ** and  **Generator Function **"
   ]
  },
  {
   "cell_type": "code",
   "execution_count": 1,
   "id": "17f66d07-02ff-465f-b70d-9320d92939d2",
   "metadata": {},
   "outputs": [],
   "source": [
    "def test():\n",
    "    print (\"this is the function\")"
   ]
  },
  {
   "cell_type": "code",
   "execution_count": 2,
   "id": "bcca3c67-4c87-471c-a4d8-c6e51198edf6",
   "metadata": {},
   "outputs": [
    {
     "name": "stdout",
     "output_type": "stream",
     "text": [
      "this is the function\n"
     ]
    }
   ],
   "source": [
    "test()"
   ]
  },
  {
   "cell_type": "code",
   "execution_count": 3,
   "id": "0f2e4a50-08fe-48d0-ada3-e37901d6b185",
   "metadata": {},
   "outputs": [
    {
     "name": "stdout",
     "output_type": "stream",
     "text": [
      "this is the function\n"
     ]
    },
    {
     "ename": "TypeError",
     "evalue": "unsupported operand type(s) for +: 'NoneType' and 'str'",
     "output_type": "error",
     "traceback": [
      "\u001b[0;31m---------------------------------------------------------------------------\u001b[0m",
      "\u001b[0;31mTypeError\u001b[0m                                 Traceback (most recent call last)",
      "Cell \u001b[0;32mIn[3], line 1\u001b[0m\n\u001b[0;32m----> 1\u001b[0m \u001b[43mtest\u001b[49m\u001b[43m(\u001b[49m\u001b[43m)\u001b[49m\u001b[43m \u001b[49m\u001b[38;5;241;43m+\u001b[39;49m\u001b[43m \u001b[49m\u001b[38;5;124;43m\"\u001b[39;49m\u001b[38;5;124;43mstring\u001b[39;49m\u001b[38;5;124;43m\"\u001b[39;49m\n",
      "\u001b[0;31mTypeError\u001b[0m: unsupported operand type(s) for +: 'NoneType' and 'str'"
     ]
    }
   ],
   "source": [
    "test() + \"string\""
   ]
  },
  {
   "cell_type": "code",
   "execution_count": 8,
   "id": "c838750b-6266-4326-a59b-155a8a559fd2",
   "metadata": {},
   "outputs": [],
   "source": [
    "def test():\n",
    "    return \"this is the function\", 25"
   ]
  },
  {
   "cell_type": "code",
   "execution_count": 10,
   "id": "e190e3b1-d299-4151-9cc3-67122c0e8564",
   "metadata": {},
   "outputs": [
    {
     "data": {
      "text/plain": [
       "('this is the function', 25)"
      ]
     },
     "execution_count": 10,
     "metadata": {},
     "output_type": "execute_result"
    }
   ],
   "source": [
    "test()"
   ]
  },
  {
   "cell_type": "markdown",
   "id": "2d967169-c6a1-4afa-bd4f-b66024d4ae40",
   "metadata": {},
   "source": [
    "# ** *args and **kwargs **"
   ]
  },
  {
   "cell_type": "code",
   "execution_count": 1,
   "id": "532085d7-86ff-469e-b208-f63b04bbecc7",
   "metadata": {},
   "outputs": [],
   "source": [
    "def test1(*basav):\n",
    "    return basav"
   ]
  },
  {
   "cell_type": "code",
   "execution_count": 2,
   "id": "bb00aa30-92a9-48b0-9103-bfe2e9454599",
   "metadata": {},
   "outputs": [
    {
     "data": {
      "text/plain": [
       "('basav',)"
      ]
     },
     "execution_count": 2,
     "metadata": {},
     "output_type": "execute_result"
    }
   ],
   "source": [
    "test1('basav')"
   ]
  },
  {
   "cell_type": "code",
   "execution_count": 5,
   "id": "b4d7dda9-b2a5-4c9d-adf7-0a1ea7f0f44b",
   "metadata": {},
   "outputs": [],
   "source": [
    "def test2(*args, **kwargs):\n",
    "    return args, kwargs"
   ]
  },
  {
   "cell_type": "code",
   "execution_count": 21,
   "id": "b158d0b4-585e-4873-a8d0-a19ef4a9e8bd",
   "metadata": {},
   "outputs": [
    {
     "data": {
      "text/plain": [
       "((1, 2, 78, [78, 25, 0]), {'hi': 78, 'a': 89, 'hello': 'HI', 'u': 'HI'})"
      ]
     },
     "execution_count": 21,
     "metadata": {},
     "output_type": "execute_result"
    }
   ],
   "source": [
    "test2(1,2,78, [78,25,0], hi= 78, a=89, hello = 'HI', u='HI')"
   ]
  },
  {
   "cell_type": "markdown",
   "id": "104fc4ed-742e-4389-aab4-8e02e347617f",
   "metadata": {},
   "source": [
    "# **Generator Function **"
   ]
  },
  {
   "cell_type": "code",
   "execution_count": 23,
   "id": "35600db4-8e71-4e0e-ac39-f7b410497d74",
   "metadata": {},
   "outputs": [
    {
     "data": {
      "text/plain": [
       "range(0, 10)"
      ]
     },
     "execution_count": 23,
     "metadata": {},
     "output_type": "execute_result"
    }
   ],
   "source": [
    "range (10)"
   ]
  },
  {
   "cell_type": "markdown",
   "id": "d596a91e-f9d2-45c5-942a-824141cf6aa0",
   "metadata": {},
   "source": [
    "# ** Fibanacci seriess ** "
   ]
  },
  {
   "cell_type": "markdown",
   "id": "b062cd88-d405-4027-87ed-be1c446e70d0",
   "metadata": {},
   "source": [
    "0,1,1,2,3,5,8,13,21,34,55"
   ]
  },
  {
   "cell_type": "code",
   "execution_count": 24,
   "id": "7a8db0e8-c94a-4ec6-98b9-91c3f8a0ad32",
   "metadata": {},
   "outputs": [],
   "source": [
    "def fib(n):\n",
    "    a, b = 0, 1\n",
    "    for i in range (n):\n",
    "        yield a \n",
    "        a,b =b, a+b"
   ]
  },
  {
   "cell_type": "code",
   "execution_count": 25,
   "id": "b0764e68-657c-43c9-9ec5-4ebab35a54c5",
   "metadata": {},
   "outputs": [
    {
     "data": {
      "text/plain": [
       "<generator object fib at 0x7fb42d812b90>"
      ]
     },
     "execution_count": 25,
     "metadata": {},
     "output_type": "execute_result"
    }
   ],
   "source": [
    "fib(25)"
   ]
  },
  {
   "cell_type": "code",
   "execution_count": 26,
   "id": "00db8aee-cabf-4aed-aad5-c55177f0b5dd",
   "metadata": {},
   "outputs": [
    {
     "name": "stdout",
     "output_type": "stream",
     "text": [
      "0\n",
      "1\n",
      "1\n",
      "2\n",
      "3\n",
      "5\n",
      "8\n",
      "13\n",
      "21\n",
      "34\n",
      "55\n",
      "89\n",
      "144\n",
      "233\n",
      "377\n",
      "610\n",
      "987\n",
      "1597\n",
      "2584\n",
      "4181\n",
      "6765\n",
      "10946\n",
      "17711\n",
      "28657\n",
      "46368\n"
     ]
    }
   ],
   "source": [
    "for i in fib(25):\n",
    "    print (i)"
   ]
  },
  {
   "cell_type": "code",
   "execution_count": 34,
   "id": "4838c032-dc16-46f9-b30e-ad43d7b632e3",
   "metadata": {},
   "outputs": [],
   "source": [
    "def fib2(n):\n",
    "    a,b = 0,1\n",
    "    fib_series = []\n",
    "    for i in range(n):\n",
    "        fib_series.append(a)\n",
    "        a,b =b, a+b\n",
    "    return fib_series"
   ]
  },
  {
   "cell_type": "code",
   "execution_count": 37,
   "id": "86ad0afb-b724-4a84-a44b-4a2f736a97ba",
   "metadata": {},
   "outputs": [],
   "source": [
    "fib_series = fib2(25)"
   ]
  },
  {
   "cell_type": "code",
   "execution_count": 38,
   "id": "ecc12804-12b4-4285-8e13-19cba4b53a88",
   "metadata": {},
   "outputs": [
    {
     "data": {
      "text/plain": [
       "[0,\n",
       " 1,\n",
       " 1,\n",
       " 2,\n",
       " 3,\n",
       " 5,\n",
       " 8,\n",
       " 13,\n",
       " 21,\n",
       " 34,\n",
       " 55,\n",
       " 89,\n",
       " 144,\n",
       " 233,\n",
       " 377,\n",
       " 610,\n",
       " 987,\n",
       " 1597,\n",
       " 2584,\n",
       " 4181,\n",
       " 6765,\n",
       " 10946,\n",
       " 17711,\n",
       " 28657,\n",
       " 46368]"
      ]
     },
     "execution_count": 38,
     "metadata": {},
     "output_type": "execute_result"
    }
   ],
   "source": [
    "fib_series"
   ]
  }
 ],
 "metadata": {
  "kernelspec": {
   "display_name": "Python 3 (ipykernel)",
   "language": "python",
   "name": "python3"
  },
  "language_info": {
   "codemirror_mode": {
    "name": "ipython",
    "version": 3
   },
   "file_extension": ".py",
   "mimetype": "text/x-python",
   "name": "python",
   "nbconvert_exporter": "python",
   "pygments_lexer": "ipython3",
   "version": "3.10.8"
  }
 },
 "nbformat": 4,
 "nbformat_minor": 5
}
