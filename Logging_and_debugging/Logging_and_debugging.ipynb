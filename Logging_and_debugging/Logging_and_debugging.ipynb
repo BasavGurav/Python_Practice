{
 "cells": [
  {
   "cell_type": "markdown",
   "id": "ceaa1b10-2843-4b53-b5ab-9430a1fcb3d8",
   "metadata": {},
   "source": [
    "## Logging and Debugger"
   ]
  },
  {
   "cell_type": "code",
   "execution_count": 1,
   "id": "3a73a3b3-2766-46f2-977d-ef1961c92ab8",
   "metadata": {},
   "outputs": [],
   "source": [
    "import logging"
   ]
  },
  {
   "cell_type": "code",
   "execution_count": 2,
   "id": "8f15c5e4-df40-487c-b26f-d8aad39cb7c4",
   "metadata": {},
   "outputs": [],
   "source": [
    "logging.basicConfig(filename = 'testlog.log', level=logging.INFO, force=True)"
   ]
  },
  {
   "cell_type": "code",
   "execution_count": 3,
   "id": "d135e9a8-08ef-49ca-b371-3250fd0c7bdd",
   "metadata": {},
   "outputs": [],
   "source": [
    "logging.info(\"this is my info tag\")"
   ]
  },
  {
   "cell_type": "code",
   "execution_count": 4,
   "id": "878db607-cdbc-4cf2-9b81-cf0f88a741a6",
   "metadata": {},
   "outputs": [],
   "source": [
    "logging.error(\"this is my error tag\")"
   ]
  },
  {
   "cell_type": "code",
   "execution_count": 5,
   "id": "7cc7b6e8-288c-4799-8323-eecb020d786d",
   "metadata": {},
   "outputs": [],
   "source": [
    "logging.critical(\"this is my critical tag\")"
   ]
  },
  {
   "cell_type": "code",
   "execution_count": 6,
   "id": "6fb98c21-d350-4c06-847a-925a923babaf",
   "metadata": {},
   "outputs": [],
   "source": [
    "logging.warning(\"this is my warning tag\")"
   ]
  },
  {
   "cell_type": "code",
   "execution_count": 7,
   "id": "ba00b26b-9bd5-4ba0-8153-d433c69890e9",
   "metadata": {},
   "outputs": [],
   "source": [
    "logging.shutdown()"
   ]
  },
  {
   "cell_type": "markdown",
   "id": "8267f14c-5f58-4b7a-ba6a-2d7b8121e4ef",
   "metadata": {},
   "source": [
    "## Order"
   ]
  },
  {
   "cell_type": "markdown",
   "id": "c5a95cfd-2be2-4fd7-936a-c768ac3e7e45",
   "metadata": {},
   "source": [
    "1) NOSET\n",
    "2) DEBUG\n",
    "3) INFO\n",
    "4) WARNING\n",
    "5) ERROR\n",
    "6) CRITICAL"
   ]
  },
  {
   "cell_type": "code",
   "execution_count": 8,
   "id": "20c9c24e-6268-426c-9ca9-45ffa27d8b7a",
   "metadata": {},
   "outputs": [],
   "source": [
    "logging.basicConfig(filename = \"test1_log.log\", level=logging.DEBUG, format ='%(asctime)s %(message)s', force=True)"
   ]
  },
  {
   "cell_type": "code",
   "execution_count": 9,
   "id": "a8cedde1-9c7b-4eac-8504-a9fc2c484afb",
   "metadata": {},
   "outputs": [],
   "source": [
    "logging.debug(\"this is my debug tag\")"
   ]
  },
  {
   "cell_type": "code",
   "execution_count": 10,
   "id": "e5eb91dd-a66f-4d38-bc0c-bfd285f76ef2",
   "metadata": {},
   "outputs": [],
   "source": [
    "logging.debug(\"this is info message\")"
   ]
  },
  {
   "cell_type": "code",
   "execution_count": 11,
   "id": "843b17e4-1641-4670-ad90-99f194993c99",
   "metadata": {},
   "outputs": [],
   "source": [
    "logging.warning(\"this is my warning message\")"
   ]
  },
  {
   "cell_type": "code",
   "execution_count": 12,
   "id": "ed8d283c-eafb-41f6-ad8f-4dbddf3eb8ba",
   "metadata": {},
   "outputs": [],
   "source": [
    "logging.shutdown()"
   ]
  },
  {
   "cell_type": "code",
   "execution_count": 13,
   "id": "83b1ae4b-c93e-4940-b4a6-7d2c9d1bff84",
   "metadata": {},
   "outputs": [],
   "source": [
    "logging.basicConfig(filename= \"test2.log\", level=logging.DEBUG, format ='%(asctime)s %(name)s %(levelname)s %(message)s', force=True)"
   ]
  },
  {
   "cell_type": "code",
   "execution_count": 14,
   "id": "6c002f43-9597-485b-b6f6-69687411c892",
   "metadata": {},
   "outputs": [],
   "source": [
    "logging.info(\"This is new info tag\")"
   ]
  },
  {
   "cell_type": "code",
   "execution_count": 15,
   "id": "5d9887f5-df60-48ca-b26a-bcc27ac37c02",
   "metadata": {},
   "outputs": [],
   "source": [
    "logging.debug(\"This is the new debug tag\")"
   ]
  },
  {
   "cell_type": "code",
   "execution_count": 16,
   "id": "22345a59-529c-4f63-86e3-36c0484bc5a4",
   "metadata": {},
   "outputs": [],
   "source": [
    "logging.shutdown()"
   ]
  },
  {
   "cell_type": "code",
   "execution_count": 17,
   "id": "43bcd563-751c-4889-94ec-0e0e5bbb17be",
   "metadata": {},
   "outputs": [],
   "source": [
    "list1 = [1, 2 , 3, 4, [1,2,2], \"Basav\", \"Gurav\"]"
   ]
  },
  {
   "cell_type": "code",
   "execution_count": 18,
   "id": "e323aa36-4679-4f77-8bd4-4807a45f97de",
   "metadata": {},
   "outputs": [],
   "source": [
    "list1_int = []\n",
    "list1_str = []\n",
    "for i in list1:\n",
    "    logging.info(\"this is my first for loop {}\".format(list1))\n",
    "    logging.info(\"this is the {} of the element from the list\".format(i))\n",
    "    if type(i)==list:\n",
    "        for j in i:\n",
    "            if type(j)==int:\n",
    "                logging.info(\"this is the value of i {i} and this is the value of j {j}\".format(i=i, j=j))\n",
    "                list1_int.append(j)\n",
    "    elif type (i)==int:\n",
    "        list1_int.append(i)\n",
    "    \n",
    "    else:\n",
    "        if type(i)==str:\n",
    "            list1_str.append(i)\n",
    "logging.info(\"Code completed successfully and final lists: string list {l1} and integer list {l2}\".format(l1=list1_str, l2=list1_int))"
   ]
  },
  {
   "cell_type": "code",
   "execution_count": 19,
   "id": "bd5d63e4-feaa-4b5c-8810-39bc4f0b16e3",
   "metadata": {},
   "outputs": [
    {
     "data": {
      "text/plain": [
       "[1, 2, 3, 4, 1, 2, 2]"
      ]
     },
     "execution_count": 19,
     "metadata": {},
     "output_type": "execute_result"
    }
   ],
   "source": [
    "list1_int"
   ]
  },
  {
   "cell_type": "code",
   "execution_count": 20,
   "id": "ce1fd300-8cdc-40ba-8b01-c3a48c6fcbaf",
   "metadata": {},
   "outputs": [
    {
     "data": {
      "text/plain": [
       "['Basav', 'Gurav']"
      ]
     },
     "execution_count": 20,
     "metadata": {},
     "output_type": "execute_result"
    }
   ],
   "source": [
    "list1_str"
   ]
  }
 ],
 "metadata": {
  "kernelspec": {
   "display_name": "Python 3 (ipykernel)",
   "language": "python",
   "name": "python3"
  },
  "language_info": {
   "codemirror_mode": {
    "name": "ipython",
    "version": 3
   },
   "file_extension": ".py",
   "mimetype": "text/x-python",
   "name": "python",
   "nbconvert_exporter": "python",
   "pygments_lexer": "ipython3",
   "version": "3.10.8"
  }
 },
 "nbformat": 4,
 "nbformat_minor": 5
}
