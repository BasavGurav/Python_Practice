{
 "cells": [
  {
   "cell_type": "markdown",
   "id": "b2588cb1-d18c-4acc-bd5d-31c9d0a43323",
   "metadata": {},
   "source": [
    "## Write Mode"
   ]
  },
  {
   "cell_type": "code",
   "execution_count": 11,
   "id": "095333dc-228a-44aa-9cf3-134329058458",
   "metadata": {},
   "outputs": [],
   "source": [
    "file = open(\"text.txt\", 'w')"
   ]
  },
  {
   "cell_type": "code",
   "execution_count": 12,
   "id": "adc6e442-a9c0-483d-94f5-041ad076caa4",
   "metadata": {},
   "outputs": [
    {
     "data": {
      "text/plain": [
       "255"
      ]
     },
     "execution_count": 12,
     "metadata": {},
     "output_type": "execute_result"
    }
   ],
   "source": [
    "file.write(\"Master the intricacies of Data Science and become an innovation catalyst. This program offers a deep dive into statistical techniques, machine learning algorithms, and big data tools, positioning you at the forefront of driving technological advancements.\")"
   ]
  },
  {
   "cell_type": "code",
   "execution_count": 13,
   "id": "58d20da3-75b0-4bd4-ad36-0f64ce11d86c",
   "metadata": {},
   "outputs": [],
   "source": [
    "file.close()"
   ]
  },
  {
   "cell_type": "markdown",
   "id": "4dc8464c-5f26-458d-a1fd-88bde2751b40",
   "metadata": {},
   "source": [
    "## Append Mode"
   ]
  },
  {
   "cell_type": "code",
   "execution_count": 15,
   "id": "96b337d5-a90b-4ebf-aa50-288a01468910",
   "metadata": {},
   "outputs": [],
   "source": [
    "file = open(\"text.txt\", 'a')"
   ]
  },
  {
   "cell_type": "code",
   "execution_count": 16,
   "id": "5ed61822-264a-4187-b4e8-1e1a432c1b94",
   "metadata": {},
   "outputs": [
    {
     "data": {
      "text/plain": [
       "255"
      ]
     },
     "execution_count": 16,
     "metadata": {},
     "output_type": "execute_result"
    }
   ],
   "source": [
    "file.write(\"Master the intricacies of Data Science and become an innovation catalyst. This program offers a deep dive into statistical techniques, machine learning algorithms, and big data tools, positioning you at the forefront of driving technological advancements.\")"
   ]
  },
  {
   "cell_type": "code",
   "execution_count": 17,
   "id": "980e7bb2-117a-43a0-a9fd-5d26f7518bbf",
   "metadata": {},
   "outputs": [],
   "source": [
    "file.close()"
   ]
  },
  {
   "cell_type": "markdown",
   "id": "1c112d59-d92c-4744-929f-6a3bd86bbf34",
   "metadata": {},
   "source": [
    "## Read Mode"
   ]
  },
  {
   "cell_type": "code",
   "execution_count": 18,
   "id": "2f5565bb-84e5-4ab4-be00-24c5346d8d5d",
   "metadata": {},
   "outputs": [],
   "source": [
    "file = open(\"text.txt\", 'r')"
   ]
  },
  {
   "cell_type": "code",
   "execution_count": 19,
   "id": "2fa248fd-d25d-4946-a657-5512c9b1178a",
   "metadata": {},
   "outputs": [
    {
     "data": {
      "text/plain": [
       "'Master the intricacies of Data Science and become an innovation catalyst. This program offers a deep dive into statistical techniques, machine learning algorithms, and big data tools, positioning you at the forefront of driving technological advancements.Master the intricacies of Data Science and become an innovation catalyst. This program offers a deep dive into statistical techniques, machine learning algorithms, and big data tools, positioning you at the forefront of driving technological advancements.'"
      ]
     },
     "execution_count": 19,
     "metadata": {},
     "output_type": "execute_result"
    }
   ],
   "source": [
    "file.read()"
   ]
  },
  {
   "cell_type": "code",
   "execution_count": 20,
   "id": "59f9457b-623b-4d82-8cec-f4c5276a290d",
   "metadata": {},
   "outputs": [
    {
     "data": {
      "text/plain": [
       "''"
      ]
     },
     "execution_count": 20,
     "metadata": {},
     "output_type": "execute_result"
    }
   ],
   "source": [
    "file.read()"
   ]
  },
  {
   "cell_type": "code",
   "execution_count": 21,
   "id": "820fa928-8286-4813-80b6-5c0f068f28ce",
   "metadata": {},
   "outputs": [
    {
     "data": {
      "text/plain": [
       "0"
      ]
     },
     "execution_count": 21,
     "metadata": {},
     "output_type": "execute_result"
    }
   ],
   "source": [
    "file.seek(0)"
   ]
  },
  {
   "cell_type": "code",
   "execution_count": 23,
   "id": "478c584b-4216-4e82-9901-3b5ccb177b5f",
   "metadata": {},
   "outputs": [
    {
     "data": {
      "text/plain": [
       "'Master the intricacies of Data Science and become an innovation catalyst. This program offers a deep dive into statistical techniques, machine learning algorithms, and big data tools, positioning you at the forefront of driving technological advancements.Master the intricacies of Data Science and become an innovation catalyst. This program offers a deep dive into statistical techniques, machine learning algorithms, and big data tools, positioning you at the forefront of driving technological advancements.'"
      ]
     },
     "execution_count": 23,
     "metadata": {},
     "output_type": "execute_result"
    }
   ],
   "source": [
    "file.read()"
   ]
  },
  {
   "cell_type": "code",
   "execution_count": 27,
   "id": "99d5c03b-f554-438b-bfc0-562d7b9ed660",
   "metadata": {},
   "outputs": [],
   "source": [
    "file1 = open(\"text.txt\", \"r\")"
   ]
  },
  {
   "cell_type": "code",
   "execution_count": 28,
   "id": "bfe269ba-0d2b-4d92-985a-2390eac92429",
   "metadata": {},
   "outputs": [
    {
     "name": "stdout",
     "output_type": "stream",
     "text": [
      "Master the intricacies of Data Science and become an innovation catalyst. This program offers a deep dive into statistical techniques, machine learning algorithms, and big data tools, positioning you at the forefront of driving technological advancements.Master the intricacies of Data Science and become an innovation catalyst. This program offers a deep dive into statistical techniques, machine learning algorithms, and big data tools, positioning you at the forefront of driving technological advancements.\n"
     ]
    }
   ],
   "source": [
    "for line in file1:\n",
    "    print (line)"
   ]
  },
  {
   "cell_type": "markdown",
   "id": "1ed9edc5-25fd-456f-9fa6-c8c4111ad597",
   "metadata": {},
   "source": [
    "## Getting the file size in programmatic way"
   ]
  },
  {
   "cell_type": "code",
   "execution_count": 30,
   "id": "529facd2-f35b-4868-9d33-3b80e705179d",
   "metadata": {},
   "outputs": [
    {
     "data": {
      "text/plain": [
       "510"
      ]
     },
     "execution_count": 30,
     "metadata": {},
     "output_type": "execute_result"
    }
   ],
   "source": [
    "import os\n",
    "os.path.getsize(\"text.txt\")"
   ]
  },
  {
   "cell_type": "markdown",
   "id": "12763e93-5986-427d-a9fe-302025cb4c65",
   "metadata": {},
   "source": [
    "## Creating the copy of the file in the programmatic way"
   ]
  },
  {
   "cell_type": "code",
   "execution_count": 31,
   "id": "ef9045b9-dcfb-4329-89cd-33456587a539",
   "metadata": {},
   "outputs": [],
   "source": [
    "import shutil"
   ]
  },
  {
   "cell_type": "code",
   "execution_count": 32,
   "id": "1b857070-f13a-4a11-947e-1d8b8ac31cca",
   "metadata": {},
   "outputs": [
    {
     "data": {
      "text/plain": [
       "'new_text.txt'"
      ]
     },
     "execution_count": 32,
     "metadata": {},
     "output_type": "execute_result"
    }
   ],
   "source": [
    "shutil.copy(\"text.txt\", \"new_text.txt\")"
   ]
  },
  {
   "cell_type": "markdown",
   "id": "7edf829f-2c8e-4d47-8abc-0e3a9d666f8e",
   "metadata": {},
   "source": [
    "## Delete the file"
   ]
  },
  {
   "cell_type": "code",
   "execution_count": 33,
   "id": "df76b3c8-9e73-4557-99c1-9a64d95d2e1e",
   "metadata": {},
   "outputs": [],
   "source": [
    "os.remove(\"new_text.txt\")"
   ]
  },
  {
   "cell_type": "markdown",
   "id": "edf53bbb-cff2-490d-9f36-17fb79efef20",
   "metadata": {},
   "source": [
    "## Open the file by using \"with\" command"
   ]
  },
  {
   "cell_type": "code",
   "execution_count": 34,
   "id": "f3c4a8b0-82c4-4cbe-b07c-b1d2aff71eaf",
   "metadata": {},
   "outputs": [
    {
     "name": "stdout",
     "output_type": "stream",
     "text": [
      "Master the intricacies of Data Science and become an innovation catalyst. This program offers a deep dive into statistical techniques, machine learning algorithms, and big data tools, positioning you at the forefront of driving technological advancements.Master the intricacies of Data Science and become an innovation catalyst. This program offers a deep dive into statistical techniques, machine learning algorithms, and big data tools, positioning you at the forefront of driving technological advancements.\n"
     ]
    }
   ],
   "source": [
    "with open(\"text.txt\", 'r') as f:\n",
    "    print (f.read())"
   ]
  },
  {
   "cell_type": "markdown",
   "id": "e27b1c57-dd38-49c9-932b-bb47b5440727",
   "metadata": {},
   "source": [
    "## Renaming the file"
   ]
  },
  {
   "cell_type": "code",
   "execution_count": 35,
   "id": "a2269595-7cbd-4e31-aa04-dabd5f03a115",
   "metadata": {},
   "outputs": [],
   "source": [
    "os.rename(\"text.txt\", \"text1.txt\")"
   ]
  },
  {
   "cell_type": "markdown",
   "id": "5da545ef-3a82-4b9a-9ba1-951b03f33025",
   "metadata": {},
   "source": [
    "## Writing and Reading of the json file"
   ]
  },
  {
   "cell_type": "code",
   "execution_count": 2,
   "id": "c6e0bae6-cef6-4716-9314-5061fe7a2083",
   "metadata": {},
   "outputs": [],
   "source": [
    "data = { \"name\": \"Basav\",\n",
    "        \"mail_id\": \"basavaraj@gmail.com\",\n",
    "        \"phone_number\": 9964,\n",
    "        \"subject\": ['Data_science', 'Big_data']}"
   ]
  },
  {
   "cell_type": "code",
   "execution_count": 3,
   "id": "1a924721-bbe7-451f-a47b-4182267a49e3",
   "metadata": {},
   "outputs": [
    {
     "data": {
      "text/plain": [
       "dict_keys(['name', 'mail_id', 'phone_number', 'subject'])"
      ]
     },
     "execution_count": 3,
     "metadata": {},
     "output_type": "execute_result"
    }
   ],
   "source": [
    "data.keys()"
   ]
  },
  {
   "cell_type": "code",
   "execution_count": 4,
   "id": "ff1c253f-72c1-4b4c-95da-0c98437bf1b4",
   "metadata": {},
   "outputs": [],
   "source": [
    "import json"
   ]
  },
  {
   "cell_type": "code",
   "execution_count": 5,
   "id": "a47268f7-69b8-4a12-9801-e3ff521aeecf",
   "metadata": {},
   "outputs": [],
   "source": [
    "with open('sample.json', 'w') as f:\n",
    "    json.dump(data, f)"
   ]
  },
  {
   "cell_type": "code",
   "execution_count": 7,
   "id": "04282ada-6a4c-4fdc-924a-0c47b989cb93",
   "metadata": {},
   "outputs": [],
   "source": [
    "with open('sample.json', 'r') as f1:\n",
    "    data1 = json.load(f1)"
   ]
  },
  {
   "cell_type": "code",
   "execution_count": 8,
   "id": "cb41eb82-837e-4539-8cf8-c49b9028c3a8",
   "metadata": {},
   "outputs": [
    {
     "data": {
      "text/plain": [
       "{'name': 'Basav',\n",
       " 'mail_id': 'basavaraj@gmail.com',\n",
       " 'phone_number': 9964,\n",
       " 'subject': ['Data_science', 'Big_data']}"
      ]
     },
     "execution_count": 8,
     "metadata": {},
     "output_type": "execute_result"
    }
   ],
   "source": [
    "data1"
   ]
  },
  {
   "cell_type": "code",
   "execution_count": 9,
   "id": "e557aee6-bd89-4841-951b-553b36b1d9cc",
   "metadata": {},
   "outputs": [
    {
     "data": {
      "text/plain": [
       "'Big_data'"
      ]
     },
     "execution_count": 9,
     "metadata": {},
     "output_type": "execute_result"
    }
   ],
   "source": [
    "data1['subject'][1]"
   ]
  },
  {
   "cell_type": "markdown",
   "id": "edbd2758-a31c-4d6e-a2eb-4553876d4612",
   "metadata": {},
   "source": [
    "## Writing and Reading of the csv file"
   ]
  },
  {
   "cell_type": "code",
   "execution_count": 11,
   "id": "b5b64256-853e-434c-90db-1af8db59f9e9",
   "metadata": {},
   "outputs": [],
   "source": [
    "data = [['name', 'email', 'phonenumber'], ['basav', 'basav@gmail', 1234], ['danesh', 'danesh@gmail.com', 125252]]"
   ]
  },
  {
   "cell_type": "code",
   "execution_count": 12,
   "id": "a95764aa-dcb9-4c8d-b99d-1b30bfc3dab2",
   "metadata": {},
   "outputs": [],
   "source": [
    "import csv"
   ]
  },
  {
   "cell_type": "code",
   "execution_count": 15,
   "id": "fcafe26c-bd86-4c28-b85e-47d7a16c22e2",
   "metadata": {},
   "outputs": [],
   "source": [
    "with open('test.csv', 'w') as f:\n",
    "    file = csv.writer(f)\n",
    "    for i in data:\n",
    "        file.writerow(i)"
   ]
  },
  {
   "cell_type": "code",
   "execution_count": 16,
   "id": "60529677-015b-463c-b9f8-b8ab853fcc0f",
   "metadata": {},
   "outputs": [
    {
     "name": "stdout",
     "output_type": "stream",
     "text": [
      "['name', 'email', 'phonenumber']\n",
      "['basav', 'basav@gmail', '1234']\n",
      "['danesh', 'danesh@gmail.com', '125252']\n"
     ]
    }
   ],
   "source": [
    "with open('test.csv', 'r') as f:\n",
    "    file = csv.reader(f)\n",
    "    for i in file:\n",
    "        print (i)"
   ]
  },
  {
   "cell_type": "markdown",
   "id": "6c0b1a7f-63d0-4b96-9497-d33aebbcea85",
   "metadata": {},
   "source": [
    "## Writing and Reading of the binary data"
   ]
  },
  {
   "cell_type": "code",
   "execution_count": 26,
   "id": "bd8da653-f1e0-436c-a88d-e4bc68a76cc4",
   "metadata": {},
   "outputs": [],
   "source": [
    "with open('test2.bin', 'wb') as f:\n",
    "    f.write(b'\\x01\\x02\\x04\\x05\\x06\\x07')"
   ]
  },
  {
   "cell_type": "code",
   "execution_count": 27,
   "id": "e7ab9b64-3f18-42ab-8131-e65f1ba07cb4",
   "metadata": {},
   "outputs": [
    {
     "name": "stdout",
     "output_type": "stream",
     "text": [
      "b'\\x01\\x02\\x04\\x05\\x06\\x07'\n"
     ]
    }
   ],
   "source": [
    "with open('test2.bin', 'rb') as f:\n",
    "    print (f.read())"
   ]
  },
  {
   "cell_type": "markdown",
   "id": "7874137c-2687-4b90-bd68-7275ae2340ae",
   "metadata": {},
   "source": [
    "## Buffered read and write operations"
   ]
  },
  {
   "cell_type": "code",
   "execution_count": 28,
   "id": "e680d092-aa1b-46df-82e2-68a0fc4b5a03",
   "metadata": {},
   "outputs": [],
   "source": [
    "import io"
   ]
  },
  {
   "cell_type": "code",
   "execution_count": 36,
   "id": "c17c85b1-09bb-4b1b-86d0-f8fbbc0d6691",
   "metadata": {},
   "outputs": [],
   "source": [
    "with open('test3.txt', 'wb') as f:\n",
    "    file = io.BufferedWriter(f)\n",
    "    file.write(b\"Master the intricacies of Data Science and become an innovation catalyst. This program offers a deep dive into statistical techniques, machine learning algorithms, and big data tools, positioning you at the forefront of driving technological advancements.Master the intricacies of Data Science and become an innovation catalyst. This program offers a deep dive into statistical techniques, machine learning algorithms, and big data tools, positioning you at the forefront of driving technological advancements.\\n\")\n",
    "    file.write(b\"hello this is the second line\")\n",
    "    file.flush()"
   ]
  },
  {
   "cell_type": "code",
   "execution_count": 44,
   "id": "ccc908a1-5c50-40b5-8528-84a88172d6b1",
   "metadata": {},
   "outputs": [
    {
     "name": "stdout",
     "output_type": "stream",
     "text": [
      "b'Master the intricacies of Data Science and become '\n"
     ]
    }
   ],
   "source": [
    "#Reading only 50 bytes\n",
    "with open(\"test3.txt\", 'rb') as f:\n",
    "    file = io.BufferedReader(f)\n",
    "    print (file.read(50))"
   ]
  }
 ],
 "metadata": {
  "kernelspec": {
   "display_name": "Python 3 (ipykernel)",
   "language": "python",
   "name": "python3"
  },
  "language_info": {
   "codemirror_mode": {
    "name": "ipython",
    "version": 3
   },
   "file_extension": ".py",
   "mimetype": "text/x-python",
   "name": "python",
   "nbconvert_exporter": "python",
   "pygments_lexer": "ipython3",
   "version": "3.10.8"
  }
 },
 "nbformat": 4,
 "nbformat_minor": 5
}
