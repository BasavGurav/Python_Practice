{
 "cells": [
  {
   "cell_type": "markdown",
   "id": "41414a1e-748b-457f-bdf9-0504a059b8de",
   "metadata": {},
   "source": [
    "# **OOPS**"
   ]
  },
  {
   "cell_type": "code",
   "execution_count": 9,
   "id": "4d91cbb2-aeb2-4f80-8f2b-1d550d8a39c0",
   "metadata": {},
   "outputs": [],
   "source": [
    "class pwskills1:\n",
    "    \n",
    "    def __init__(self, phone_number, email_id, student_id):\n",
    "        self.phone_number = phone_number\n",
    "        self.email_id = email_id\n",
    "        self.student_id = student_id\n",
    "    def return_student_details(self):\n",
    "        return self.phone_number, self.email_id, self.student_id"
   ]
  },
  {
   "cell_type": "code",
   "execution_count": 10,
   "id": "ad588af6-036b-4992-b672-35389f30d45e",
   "metadata": {},
   "outputs": [],
   "source": [
    "basav = pwskills1(78, \"basav@gmail.com\", 45)"
   ]
  },
  {
   "cell_type": "code",
   "execution_count": 11,
   "id": "5b4ebbde-2c12-46ba-b4e3-d1b79913da9c",
   "metadata": {},
   "outputs": [
    {
     "data": {
      "text/plain": [
       "(78, 'basav@gmail.com', 45)"
      ]
     },
     "execution_count": 11,
     "metadata": {},
     "output_type": "execute_result"
    }
   ],
   "source": [
    "basav.return_student_details()"
   ]
  },
  {
   "cell_type": "code",
   "execution_count": 12,
   "id": "5aceda5a-fdee-4231-9f16-8ff3aa65a2c9",
   "metadata": {},
   "outputs": [
    {
     "data": {
      "text/plain": [
       "78"
      ]
     },
     "execution_count": 12,
     "metadata": {},
     "output_type": "execute_result"
    }
   ],
   "source": [
    "basav.phone_number"
   ]
  },
  {
   "cell_type": "code",
   "execution_count": 13,
   "id": "ce8b0afa-d2d8-4104-b034-387dd5cd7e82",
   "metadata": {},
   "outputs": [
    {
     "data": {
      "text/plain": [
       "'basav@gmail.com'"
      ]
     },
     "execution_count": 13,
     "metadata": {},
     "output_type": "execute_result"
    }
   ],
   "source": [
    "basav.email_id"
   ]
  },
  {
   "cell_type": "code",
   "execution_count": 14,
   "id": "c690b7ef-392d-4954-9c89-bbf6d321192e",
   "metadata": {},
   "outputs": [
    {
     "data": {
      "text/plain": [
       "45"
      ]
     },
     "execution_count": 14,
     "metadata": {},
     "output_type": "execute_result"
    }
   ],
   "source": [
    "basav.student_id"
   ]
  },
  {
   "cell_type": "markdown",
   "id": "25044058-dcbf-4c48-840c-09380ec7b109",
   "metadata": {},
   "source": [
    "## No need to use self all the time, any string in place of self works fine. But converntion is using the self"
   ]
  },
  {
   "cell_type": "code",
   "execution_count": 15,
   "id": "d4a8b3b9-a9f4-4924-9a83-bc60f3770751",
   "metadata": {},
   "outputs": [],
   "source": [
    "class pwskills1:\n",
    "    \n",
    "    def __init__(basav, phone_number, email_id, student_id):\n",
    "        basav.phone_number = phone_number\n",
    "        basav.email_id = email_id\n",
    "        basav.student_id = student_id\n",
    "    def return_student_details(self):\n",
    "        return basav.phone_number, basav.email_id, basav.student_id"
   ]
  },
  {
   "cell_type": "code",
   "execution_count": 17,
   "id": "bbff816e-314f-4068-8c66-96fe41c32e5b",
   "metadata": {},
   "outputs": [],
   "source": [
    "basav = pwskills1(1,1,1)"
   ]
  },
  {
   "cell_type": "code",
   "execution_count": 18,
   "id": "41e955f5-1b6a-4e30-8ff2-aba9548c7573",
   "metadata": {},
   "outputs": [
    {
     "data": {
      "text/plain": [
       "(1, 1, 1)"
      ]
     },
     "execution_count": 18,
     "metadata": {},
     "output_type": "execute_result"
    }
   ],
   "source": [
    "basav.return_student_details()"
   ]
  },
  {
   "cell_type": "markdown",
   "id": "8bd7a1f6-57ee-4bf4-a979-9cf4bd8dab21",
   "metadata": {},
   "source": [
    "## objects understands the variables assigned to the pointers"
   ]
  },
  {
   "cell_type": "code",
   "execution_count": 22,
   "id": "815a9048-e7c0-4ada-bf70-c9fe458360ed",
   "metadata": {},
   "outputs": [],
   "source": [
    "class pwskills1:\n",
    "    \n",
    "    def __init__(basav, phone_number, email_id, student_id):\n",
    "        basav.phone_number1 = phone_number\n",
    "        basav.email_id = email_id\n",
    "        basav.student_id = student_id\n",
    "    def return_student_details(self):\n",
    "        return basav.phone_number1, basav.email_id, basav.student_id"
   ]
  },
  {
   "cell_type": "code",
   "execution_count": 23,
   "id": "8909b911-a12e-4e1c-aaa8-7aa287d126fe",
   "metadata": {},
   "outputs": [],
   "source": [
    "basav = pwskills1(1,1,1)"
   ]
  },
  {
   "cell_type": "code",
   "execution_count": 24,
   "id": "da7d678e-04e8-4015-ad1f-ef7cc8263593",
   "metadata": {},
   "outputs": [
    {
     "data": {
      "text/plain": [
       "(1, 1, 1)"
      ]
     },
     "execution_count": 24,
     "metadata": {},
     "output_type": "execute_result"
    }
   ],
   "source": [
    "basav.return_student_details()"
   ]
  },
  {
   "cell_type": "code",
   "execution_count": 26,
   "id": "ab3d9d49-0f97-4cbe-9ffa-15b8ae35439f",
   "metadata": {},
   "outputs": [
    {
     "ename": "AttributeError",
     "evalue": "'pwskills1' object has no attribute 'phone_number'",
     "output_type": "error",
     "traceback": [
      "\u001b[0;31m---------------------------------------------------------------------------\u001b[0m",
      "\u001b[0;31mAttributeError\u001b[0m                            Traceback (most recent call last)",
      "Cell \u001b[0;32mIn[26], line 1\u001b[0m\n\u001b[0;32m----> 1\u001b[0m \u001b[43mbasav\u001b[49m\u001b[38;5;241;43m.\u001b[39;49m\u001b[43mphone_number\u001b[49m\n",
      "\u001b[0;31mAttributeError\u001b[0m: 'pwskills1' object has no attribute 'phone_number'"
     ]
    }
   ],
   "source": [
    "basav.phone_number"
   ]
  },
  {
   "cell_type": "code",
   "execution_count": 27,
   "id": "3978c51d-957b-45b0-b678-9890cee563d3",
   "metadata": {},
   "outputs": [
    {
     "data": {
      "text/plain": [
       "1"
      ]
     },
     "execution_count": 27,
     "metadata": {},
     "output_type": "execute_result"
    }
   ],
   "source": [
    "basav.phone_number1"
   ]
  },
  {
   "cell_type": "markdown",
   "id": "b57244db-8b13-4ba1-abf7-866fbc632fe0",
   "metadata": {},
   "source": [
    "# polymorphism"
   ]
  },
  {
   "cell_type": "code",
   "execution_count": 28,
   "id": "f5299494-2a8d-4923-9bcd-b58bf50e6d61",
   "metadata": {},
   "outputs": [],
   "source": [
    "def test(a, b):\n",
    "    return a+b"
   ]
  },
  {
   "cell_type": "code",
   "execution_count": 29,
   "id": "67bd1246-9a3a-4845-9b20-91171636864b",
   "metadata": {},
   "outputs": [
    {
     "data": {
      "text/plain": [
       "3"
      ]
     },
     "execution_count": 29,
     "metadata": {},
     "output_type": "execute_result"
    }
   ],
   "source": [
    "#addition\n",
    "test (1,2)"
   ]
  },
  {
   "cell_type": "code",
   "execution_count": 32,
   "id": "586d07b2-97d8-464f-b45a-984635d11ef6",
   "metadata": {},
   "outputs": [
    {
     "data": {
      "text/plain": [
       "'hiBasav'"
      ]
     },
     "execution_count": 32,
     "metadata": {},
     "output_type": "execute_result"
    }
   ],
   "source": [
    "#concatination\n",
    "test(\"hi\", \"Basav\")"
   ]
  },
  {
   "cell_type": "code",
   "execution_count": 33,
   "id": "d535fe79-4797-4721-85fb-4ee6845ba02b",
   "metadata": {},
   "outputs": [
    {
     "data": {
      "text/plain": [
       "[1, 2, 5, 8]"
      ]
     },
     "execution_count": 33,
     "metadata": {},
     "output_type": "execute_result"
    }
   ],
   "source": [
    "#list concatenation\n",
    "test([1,2], [5,8])"
   ]
  },
  {
   "cell_type": "code",
   "execution_count": 39,
   "id": "8e6ff69f-f38a-4259-804a-1ad9093af6a8",
   "metadata": {},
   "outputs": [],
   "source": [
    "class data_sciene:\n",
    "    \n",
    "    def Syallabus(self):\n",
    "        print (\"this is the syallabus for the data science\")"
   ]
  },
  {
   "cell_type": "code",
   "execution_count": 40,
   "id": "245dbcaf-f032-4a70-b200-955eb3a2e44d",
   "metadata": {},
   "outputs": [],
   "source": [
    "class dev_web:\n",
    "    \n",
    "    def Syallabus(self):\n",
    "        print (\"this is the syallabus for the dev web\")"
   ]
  },
  {
   "cell_type": "code",
   "execution_count": 41,
   "id": "b7bf0d5f-0829-4a91-b7aa-98191c9965f1",
   "metadata": {},
   "outputs": [],
   "source": [
    "data_science_obj = data_sciene()\n",
    "web_dev_obj = dev_web()"
   ]
  },
  {
   "cell_type": "code",
   "execution_count": 42,
   "id": "b63b4a2b-0d04-466b-8620-b29152899a20",
   "metadata": {},
   "outputs": [],
   "source": [
    "wrapper_list = [data_science_obj,web_dev_obj]"
   ]
  },
  {
   "cell_type": "markdown",
   "id": "4463e901-1347-4408-9e1a-fa17dec1e1d0",
   "metadata": {},
   "source": [
    "## Here the i is changing for every iteration. So it can be example of the polymorphism"
   ]
  },
  {
   "cell_type": "code",
   "execution_count": 43,
   "id": "51e1aaa5-0024-4188-9d09-b3d54b48856a",
   "metadata": {},
   "outputs": [],
   "source": [
    "def print_syallabus(input1):\n",
    "    for i in input1:\n",
    "        i.Syallabus()"
   ]
  },
  {
   "cell_type": "code",
   "execution_count": 44,
   "id": "5d83bc6d-e2e0-45a4-9495-8ad0ed257001",
   "metadata": {},
   "outputs": [
    {
     "name": "stdout",
     "output_type": "stream",
     "text": [
      "this is the syallabus for the data science\n",
      "this is the syallabus for the dev web\n"
     ]
    }
   ],
   "source": [
    "print_syallabus(wrapper_list)"
   ]
  },
  {
   "cell_type": "markdown",
   "id": "3d4ccea8-cce0-4e77-83ab-a86f30ce5641",
   "metadata": {},
   "source": [
    "# encapsulation"
   ]
  },
  {
   "cell_type": "markdown",
   "id": "3ea89f9a-1fa5-4bbc-ac06-2d7adcb1ef79",
   "metadata": {},
   "source": [
    "Encapsulation is a way to restrict the direct access to some components of an object, so users cannot access state values for all of the variables of a particular object. Encapsulation can be used to hide both data members and data functions or methods associated with an instantiated class or object."
   ]
  },
  {
   "cell_type": "code",
   "execution_count": 46,
   "id": "68ad0820-650f-4eac-acd5-f4b6d7564957",
   "metadata": {},
   "outputs": [],
   "source": [
    "class bank_account:\n",
    "    \n",
    "    def __init__(self, balance):\n",
    "        self.__balance = balance\n",
    "        \n",
    "    def deposit(self, amount):\n",
    "        self.__balance = self.__balance +amount\n",
    "    \n",
    "    def withdraw(self, withdraw):\n",
    "        if self.__balance >= withdraw:\n",
    "            self.__balance = self.__balance - withdraw\n",
    "            \n",
    "            return True\n",
    "        else: \n",
    "            return False\n",
    "        \n",
    "    def get_balance(self):\n",
    "        return self.__balance\n",
    "        \n",
    "        "
   ]
  },
  {
   "cell_type": "code",
   "execution_count": 47,
   "id": "2e9132f4-949a-446d-8438-7458a7a1af0d",
   "metadata": {},
   "outputs": [],
   "source": [
    "my_account = bank_account(1000)"
   ]
  },
  {
   "cell_type": "code",
   "execution_count": 48,
   "id": "1c0c6ebc-0ae2-4e6d-a9af-0cd9d52d12c2",
   "metadata": {},
   "outputs": [
    {
     "data": {
      "text/plain": [
       "1000"
      ]
     },
     "execution_count": 48,
     "metadata": {},
     "output_type": "execute_result"
    }
   ],
   "source": [
    "my_account.get_balance()"
   ]
  },
  {
   "cell_type": "code",
   "execution_count": 49,
   "id": "7c473d26-7983-4fa3-b6c9-86b7e02f0c2b",
   "metadata": {},
   "outputs": [],
   "source": [
    "my_account.deposit(2500)"
   ]
  },
  {
   "cell_type": "code",
   "execution_count": 50,
   "id": "0a03c93f-ea80-4a30-af48-956038e67f29",
   "metadata": {},
   "outputs": [
    {
     "data": {
      "text/plain": [
       "3500"
      ]
     },
     "execution_count": 50,
     "metadata": {},
     "output_type": "execute_result"
    }
   ],
   "source": [
    "my_account.get_balance()"
   ]
  },
  {
   "cell_type": "code",
   "execution_count": 51,
   "id": "4d24b67d-040c-498b-b900-5b6ec1e0df2d",
   "metadata": {},
   "outputs": [
    {
     "data": {
      "text/plain": [
       "False"
      ]
     },
     "execution_count": 51,
     "metadata": {},
     "output_type": "execute_result"
    }
   ],
   "source": [
    "my_account.withdraw(5000)"
   ]
  },
  {
   "cell_type": "code",
   "execution_count": 52,
   "id": "47f64a16-2f96-4c85-a163-ad690e7eacb8",
   "metadata": {},
   "outputs": [
    {
     "data": {
      "text/plain": [
       "True"
      ]
     },
     "execution_count": 52,
     "metadata": {},
     "output_type": "execute_result"
    }
   ],
   "source": [
    "my_account.withdraw(500)"
   ]
  },
  {
   "cell_type": "code",
   "execution_count": 54,
   "id": "02fcabb3-fa03-4e7d-9649-a79305174b08",
   "metadata": {},
   "outputs": [
    {
     "data": {
      "text/plain": [
       "3000"
      ]
     },
     "execution_count": 54,
     "metadata": {},
     "output_type": "execute_result"
    }
   ],
   "source": [
    "my_account.get_balance()"
   ]
  },
  {
   "cell_type": "markdown",
   "id": "b2bc708c-6ed7-49bd-8e9d-3ad70bdafb31",
   "metadata": {},
   "source": [
    "# inheritance "
   ]
  },
  {
   "cell_type": "code",
   "execution_count": 55,
   "id": "f8294db0-ae2b-4770-84d2-60ebd0a9d678",
   "metadata": {},
   "outputs": [],
   "source": [
    "class parent:\n",
    "    \n",
    "    def test_parent(self):\n",
    "        print (\"this is the parent class\")\n",
    "    "
   ]
  },
  {
   "cell_type": "code",
   "execution_count": 56,
   "id": "3c767ca1-7bac-43d4-84dc-d14c2d6e41f7",
   "metadata": {},
   "outputs": [],
   "source": [
    "class child(parent):\n",
    "    pass"
   ]
  },
  {
   "cell_type": "code",
   "execution_count": 57,
   "id": "a8f76dc9-4c40-4569-8ebc-4b2f2566b829",
   "metadata": {},
   "outputs": [],
   "source": [
    "child_obje = child()"
   ]
  },
  {
   "cell_type": "code",
   "execution_count": 58,
   "id": "a9946d97-ac07-40b4-8091-5e0a3187e332",
   "metadata": {},
   "outputs": [
    {
     "name": "stdout",
     "output_type": "stream",
     "text": [
      "this is the parent class\n"
     ]
    }
   ],
   "source": [
    "child_obje.test_parent()"
   ]
  },
  {
   "cell_type": "code",
   "execution_count": 59,
   "id": "19b4c72b-fd08-4786-9152-50f214df1488",
   "metadata": {},
   "outputs": [],
   "source": [
    "class class1:\n",
    "    \n",
    "    def test_class1(self):\n",
    "        print (\"this is the test class1\")\n"
   ]
  },
  {
   "cell_type": "code",
   "execution_count": 66,
   "id": "b45a0eb6-87e8-445d-a28c-face9e2ca77c",
   "metadata": {},
   "outputs": [],
   "source": [
    "class class2(class1):\n",
    "    \n",
    "    def test_class2(self):\n",
    "        print (\" this is the test class2\")\n",
    "        "
   ]
  },
  {
   "cell_type": "code",
   "execution_count": 67,
   "id": "61d00eed-9979-4d9e-a3f5-676609cbd243",
   "metadata": {},
   "outputs": [],
   "source": [
    "class class3(class2):\n",
    "    def test_class3(self):\n",
    "        print (\" this is the test class3\")\n",
    "    "
   ]
  },
  {
   "cell_type": "code",
   "execution_count": 68,
   "id": "460bef73-370f-4391-948f-7dec401b7d3d",
   "metadata": {},
   "outputs": [],
   "source": [
    "obj_class3 = class3()"
   ]
  },
  {
   "cell_type": "code",
   "execution_count": 70,
   "id": "42aede31-5632-4baa-aa98-ad6ae5a4fb20",
   "metadata": {},
   "outputs": [
    {
     "name": "stdout",
     "output_type": "stream",
     "text": [
      "this is the test class1\n"
     ]
    }
   ],
   "source": [
    "obj_class3.test_class1()"
   ]
  },
  {
   "cell_type": "code",
   "execution_count": 71,
   "id": "3c4b7378-e301-454d-88de-0d2e3ad9f85d",
   "metadata": {},
   "outputs": [
    {
     "name": "stdout",
     "output_type": "stream",
     "text": [
      " this is the test class2\n"
     ]
    }
   ],
   "source": [
    "obj_class3.test_class2()"
   ]
  },
  {
   "cell_type": "code",
   "execution_count": 72,
   "id": "e63019a8-fd21-476e-856b-560abeb1096c",
   "metadata": {},
   "outputs": [
    {
     "name": "stdout",
     "output_type": "stream",
     "text": [
      " this is the test class3\n"
     ]
    }
   ],
   "source": [
    "obj_class3.test_class3()"
   ]
  },
  {
   "cell_type": "code",
   "execution_count": 76,
   "id": "ff243239-d5c8-44e9-bbde-f79e00c3b588",
   "metadata": {},
   "outputs": [],
   "source": [
    "class class1:\n",
    "    \n",
    "    def test_class1(self):\n",
    "        print (\"this is the test class1\")"
   ]
  },
  {
   "cell_type": "code",
   "execution_count": 77,
   "id": "ba72bb21-8084-4e29-bd72-3b9f56ec02ed",
   "metadata": {},
   "outputs": [],
   "source": [
    "class class2:\n",
    "    \n",
    "    def test_class2(self):\n",
    "        print (\" this is the test class2\")"
   ]
  },
  {
   "cell_type": "code",
   "execution_count": 78,
   "id": "4a8dc59f-4f32-4768-b8e5-1826dc661d34",
   "metadata": {},
   "outputs": [],
   "source": [
    "class class3:\n",
    "    def test_class3(self):\n",
    "        print (\" this is the test class3\")"
   ]
  },
  {
   "cell_type": "code",
   "execution_count": 79,
   "id": "7d7682ec-8664-4ff2-92f6-9db85db582d4",
   "metadata": {},
   "outputs": [],
   "source": [
    "class class4(class1, class2, class3):\n",
    "    def test_class4(self):\n",
    "        print (\" this is the test class4\")"
   ]
  },
  {
   "cell_type": "code",
   "execution_count": 80,
   "id": "83f06a03-4d65-44a6-bc46-6405d25cb932",
   "metadata": {},
   "outputs": [],
   "source": [
    "obj_class4 = class4()"
   ]
  },
  {
   "cell_type": "code",
   "execution_count": 81,
   "id": "84706caa-f836-404f-8597-4305b85b3c5e",
   "metadata": {},
   "outputs": [
    {
     "name": "stdout",
     "output_type": "stream",
     "text": [
      "this is the test class1\n"
     ]
    }
   ],
   "source": [
    "obj_class4.test_class1()"
   ]
  },
  {
   "cell_type": "markdown",
   "id": "d2a49c46-7541-4073-86c4-4ffc111df849",
   "metadata": {},
   "source": [
    "# abstraction  "
   ]
  },
  {
   "cell_type": "markdown",
   "id": "0d9ef864-328f-4207-83fe-489445339b68",
   "metadata": {},
   "source": [
    "abstraction is creating the template. its like blue print. "
   ]
  },
  {
   "cell_type": "code",
   "execution_count": 82,
   "id": "f39f92e4-3eb5-4cb3-8298-2642d1811f6f",
   "metadata": {},
   "outputs": [],
   "source": [
    "import abc"
   ]
  },
  {
   "cell_type": "code",
   "execution_count": 86,
   "id": "48a146eb-3335-4953-b945-bf32242a08d6",
   "metadata": {},
   "outputs": [],
   "source": [
    "class blueprint:\n",
    "    \n",
    "    @abc.abstractclassmethod\n",
    "    def function1(self):\n",
    "        print (\"this is the function1\")\n",
    "    @abc.abstractclassmethod\n",
    "    def fucntion2(self):\n",
    "        print (\"this is the function2\")"
   ]
  },
  {
   "cell_type": "code",
   "execution_count": 88,
   "id": "e9a5b428-effe-4569-9b53-1cfd82e037de",
   "metadata": {},
   "outputs": [],
   "source": [
    "class class2(blueprint):\n",
    "    \n",
    "    def fucntion2(self):\n",
    "        print (\"this is the function1 in class2\")"
   ]
  },
  {
   "cell_type": "code",
   "execution_count": 89,
   "id": "f666c3be-0e3e-4e9e-bece-5dbdc15c391f",
   "metadata": {},
   "outputs": [
    {
     "name": "stdout",
     "output_type": "stream",
     "text": [
      "this is the function1 in class2\n"
     ]
    }
   ],
   "source": [
    "obj_class2 = class2()\n",
    "obj_class2.fucntion2()"
   ]
  },
  {
   "cell_type": "markdown",
   "id": "36a8a800-7a04-437d-9efe-69a709f8c89d",
   "metadata": {},
   "source": [
    "# Decorators"
   ]
  },
  {
   "cell_type": "markdown",
   "id": "0b4b5d2e-f1f2-47a8-9729-070d627ab4bf",
   "metadata": {},
   "source": [
    "Write the function which calclulates the time required for the running that function"
   ]
  },
  {
   "cell_type": "code",
   "execution_count": 5,
   "id": "df16bd37-cd8b-4bd2-8b93-6b10fab81d1e",
   "metadata": {},
   "outputs": [],
   "source": [
    "#Decorator_function\n",
    "import time\n",
    "def timer(func):\n",
    "    def time_deco_function():\n",
    "        start_time = time.time()\n",
    "        func()\n",
    "        end_time = time.time()\n",
    "        print (\"time taken to run the program\", end_time-start_time)\n",
    "    return time_deco_function"
   ]
  },
  {
   "cell_type": "code",
   "execution_count": 6,
   "id": "73ad0dc2-c701-4210-a8bb-4cf8092e3244",
   "metadata": {},
   "outputs": [],
   "source": [
    "@timer\n",
    "def test():\n",
    "    print (5+15)"
   ]
  },
  {
   "cell_type": "code",
   "execution_count": 7,
   "id": "2527e25a-7db3-4836-b53b-3d5a14d442d5",
   "metadata": {},
   "outputs": [
    {
     "name": "stdout",
     "output_type": "stream",
     "text": [
      "20\n",
      "time taken to run the program 7.104873657226562e-05\n"
     ]
    }
   ],
   "source": [
    "test()"
   ]
  },
  {
   "cell_type": "markdown",
   "id": "d54bfd2e-3bce-4a7b-a939-3c9a58969263",
   "metadata": {},
   "source": [
    "# Class methods"
   ]
  },
  {
   "cell_type": "code",
   "execution_count": 36,
   "id": "cb06c42c-14e7-4658-ba01-89492d7eec57",
   "metadata": {},
   "outputs": [],
   "source": [
    "class pwskills:\n",
    "    \n",
    "    mobile_number =9964944222\n",
    "    \n",
    "    def __init__(self, name, email):\n",
    "        self.name =name\n",
    "        self.email = email\n",
    "        \n",
    "    @classmethod\n",
    "    def change_number(cls, mobile):\n",
    "        pwskills.mobile_number = mobile\n",
    "    \n",
    "    @classmethod\n",
    "    def details(cls, name1, email1):\n",
    "        return cls(name1, email1)\n",
    "    \n",
    "    def student_details(self):\n",
    "        print (self.name, self.email, pwskills.mobile_number)"
   ]
  },
  {
   "cell_type": "code",
   "execution_count": 19,
   "id": "ca6eafd3-950e-422c-bb61-809cb0af90e2",
   "metadata": {},
   "outputs": [],
   "source": [
    "pwskills_obj = pwskills(\"Basav\", \"Basav@gmail.com\")"
   ]
  },
  {
   "cell_type": "code",
   "execution_count": 20,
   "id": "2a476119-b97a-47b3-b721-518ac9b53438",
   "metadata": {},
   "outputs": [],
   "source": [
    "pwskills_obj.change_number(8585858)"
   ]
  },
  {
   "cell_type": "code",
   "execution_count": 21,
   "id": "9e15c1ec-fa57-41b6-b9fd-9db28da01303",
   "metadata": {},
   "outputs": [
    {
     "data": {
      "text/plain": [
       "8585858"
      ]
     },
     "execution_count": 21,
     "metadata": {},
     "output_type": "execute_result"
    }
   ],
   "source": [
    "pwskills.mobile_number"
   ]
  },
  {
   "cell_type": "markdown",
   "id": "7b727e90-1700-4a82-bc21-94175f988eb8",
   "metadata": {},
   "source": [
    "Its possible to add the function to the class."
   ]
  },
  {
   "cell_type": "code",
   "execution_count": 22,
   "id": "135c5e6f-2f54-4559-900c-1a7cff2e3e30",
   "metadata": {},
   "outputs": [],
   "source": [
    "def new_function(cls, name, second_name, third_name):\n",
    "    print (\"this is the names\", name, second_name, third_name)"
   ]
  },
  {
   "cell_type": "code",
   "execution_count": 26,
   "id": "fb0fcff8-d4f2-42e1-a97c-e565c4bbcf1b",
   "metadata": {},
   "outputs": [],
   "source": [
    "pwskills.new_function = classmethod(new_function)"
   ]
  },
  {
   "cell_type": "code",
   "execution_count": 30,
   "id": "751f1198-178e-4bab-bf11-18f05cbe3e6e",
   "metadata": {},
   "outputs": [
    {
     "name": "stdout",
     "output_type": "stream",
     "text": [
      "this is the names Basav Shivalingappa Gurav\n"
     ]
    }
   ],
   "source": [
    "pwskills.new_function('Basav', 'Shivalingappa', 'Gurav')"
   ]
  },
  {
   "cell_type": "markdown",
   "id": "aa137a95-a31f-4208-a43b-c523476521c1",
   "metadata": {},
   "source": [
    "Deleting of the functions from the class"
   ]
  },
  {
   "cell_type": "code",
   "execution_count": 32,
   "id": "099c778e-80f0-4ae2-a9ff-82e3b2782a9a",
   "metadata": {},
   "outputs": [],
   "source": [
    "del pwskills.mobile_number"
   ]
  },
  {
   "cell_type": "code",
   "execution_count": 34,
   "id": "b2de7077-ac01-4e00-9bcf-6806c26e9624",
   "metadata": {},
   "outputs": [],
   "source": [
    "del pwskills.student_details"
   ]
  },
  {
   "cell_type": "code",
   "execution_count": 35,
   "id": "a73f9e07-8ee3-4102-8548-b671f65b7aad",
   "metadata": {},
   "outputs": [],
   "source": [
    "delattr(pwskills, \"change_number\")"
   ]
  },
  {
   "cell_type": "markdown",
   "id": "4fa9b89b-7bc5-44b7-b720-13423b1e2dce",
   "metadata": {},
   "source": [
    "# Static methods"
   ]
  },
  {
   "cell_type": "code",
   "execution_count": 41,
   "id": "c34c1f77-8d7e-4bf6-bb95-b47256e0d3cc",
   "metadata": {},
   "outputs": [],
   "source": [
    "class pwskills:\n",
    "    \n",
    "    mobile_number =9964944222\n",
    "    \n",
    "    def __init__(self, name, email):\n",
    "        self.name =name\n",
    "        self.email = email\n",
    "        \n",
    "    @classmethod\n",
    "    def change_number(cls, mobile):\n",
    "        pwskills.mobile_number = mobile\n",
    "    \n",
    "    @classmethod\n",
    "    def details(cls, name1, email1):\n",
    "        return cls(name1, email1)\n",
    "    \n",
    "    @staticmethod\n",
    "    def mentor_class(mentor_list):\n",
    "        return mentor_list\n",
    "    \n",
    "    def student_details(self):\n",
    "        print (self.name, self.email, pwskills.mobile_number)"
   ]
  },
  {
   "cell_type": "code",
   "execution_count": 43,
   "id": "536dbe03-7f8a-477f-86f2-c4b23c23a136",
   "metadata": {},
   "outputs": [
    {
     "data": {
      "text/plain": [
       "['Basav', 'Gurav']"
      ]
     },
     "execution_count": 43,
     "metadata": {},
     "output_type": "execute_result"
    }
   ],
   "source": [
    "pwskills.mentor_class(['Basav', 'Gurav'])"
   ]
  },
  {
   "cell_type": "markdown",
   "id": "37c40473-5019-44ec-8552-5d8259ea334d",
   "metadata": {},
   "source": [
    "Static methods are used for the memory management"
   ]
  },
  {
   "cell_type": "markdown",
   "id": "3c278773-5926-42b7-9d5f-f7f4fff48056",
   "metadata": {},
   "source": [
    " # Special (Magic Dunder) Methods"
   ]
  },
  {
   "cell_type": "code",
   "execution_count": 44,
   "id": "49479af7-3bdb-45f6-9a95-5640d6fbbdd7",
   "metadata": {},
   "outputs": [
    {
     "data": {
      "text/plain": [
       "['__add__',\n",
       " '__class__',\n",
       " '__contains__',\n",
       " '__delattr__',\n",
       " '__dir__',\n",
       " '__doc__',\n",
       " '__eq__',\n",
       " '__format__',\n",
       " '__ge__',\n",
       " '__getattribute__',\n",
       " '__getitem__',\n",
       " '__getnewargs__',\n",
       " '__gt__',\n",
       " '__hash__',\n",
       " '__init__',\n",
       " '__init_subclass__',\n",
       " '__iter__',\n",
       " '__le__',\n",
       " '__len__',\n",
       " '__lt__',\n",
       " '__mod__',\n",
       " '__mul__',\n",
       " '__ne__',\n",
       " '__new__',\n",
       " '__reduce__',\n",
       " '__reduce_ex__',\n",
       " '__repr__',\n",
       " '__rmod__',\n",
       " '__rmul__',\n",
       " '__setattr__',\n",
       " '__sizeof__',\n",
       " '__str__',\n",
       " '__subclasshook__',\n",
       " 'capitalize',\n",
       " 'casefold',\n",
       " 'center',\n",
       " 'count',\n",
       " 'encode',\n",
       " 'endswith',\n",
       " 'expandtabs',\n",
       " 'find',\n",
       " 'format',\n",
       " 'format_map',\n",
       " 'index',\n",
       " 'isalnum',\n",
       " 'isalpha',\n",
       " 'isascii',\n",
       " 'isdecimal',\n",
       " 'isdigit',\n",
       " 'isidentifier',\n",
       " 'islower',\n",
       " 'isnumeric',\n",
       " 'isprintable',\n",
       " 'isspace',\n",
       " 'istitle',\n",
       " 'isupper',\n",
       " 'join',\n",
       " 'ljust',\n",
       " 'lower',\n",
       " 'lstrip',\n",
       " 'maketrans',\n",
       " 'partition',\n",
       " 'removeprefix',\n",
       " 'removesuffix',\n",
       " 'replace',\n",
       " 'rfind',\n",
       " 'rindex',\n",
       " 'rjust',\n",
       " 'rpartition',\n",
       " 'rsplit',\n",
       " 'rstrip',\n",
       " 'split',\n",
       " 'splitlines',\n",
       " 'startswith',\n",
       " 'strip',\n",
       " 'swapcase',\n",
       " 'title',\n",
       " 'translate',\n",
       " 'upper',\n",
       " 'zfill']"
      ]
     },
     "execution_count": 44,
     "metadata": {},
     "output_type": "execute_result"
    }
   ],
   "source": [
    "dir(str)"
   ]
  },
  {
   "cell_type": "code",
   "execution_count": 45,
   "id": "37177122-c901-4fef-9418-15d99c4306e1",
   "metadata": {},
   "outputs": [
    {
     "data": {
      "text/plain": [
       "['__add__',\n",
       " '__class__',\n",
       " '__class_getitem__',\n",
       " '__contains__',\n",
       " '__delattr__',\n",
       " '__delitem__',\n",
       " '__dir__',\n",
       " '__doc__',\n",
       " '__eq__',\n",
       " '__format__',\n",
       " '__ge__',\n",
       " '__getattribute__',\n",
       " '__getitem__',\n",
       " '__gt__',\n",
       " '__hash__',\n",
       " '__iadd__',\n",
       " '__imul__',\n",
       " '__init__',\n",
       " '__init_subclass__',\n",
       " '__iter__',\n",
       " '__le__',\n",
       " '__len__',\n",
       " '__lt__',\n",
       " '__mul__',\n",
       " '__ne__',\n",
       " '__new__',\n",
       " '__reduce__',\n",
       " '__reduce_ex__',\n",
       " '__repr__',\n",
       " '__reversed__',\n",
       " '__rmul__',\n",
       " '__setattr__',\n",
       " '__setitem__',\n",
       " '__sizeof__',\n",
       " '__str__',\n",
       " '__subclasshook__',\n",
       " 'append',\n",
       " 'clear',\n",
       " 'copy',\n",
       " 'count',\n",
       " 'extend',\n",
       " 'index',\n",
       " 'insert',\n",
       " 'pop',\n",
       " 'remove',\n",
       " 'reverse',\n",
       " 'sort']"
      ]
     },
     "execution_count": 45,
     "metadata": {},
     "output_type": "execute_result"
    }
   ],
   "source": [
    "dir(list)"
   ]
  },
  {
   "cell_type": "markdown",
   "id": "46330b5a-5fb9-4ac1-a6c8-2d25348cb6e8",
   "metadata": {},
   "source": [
    "This command dir of datatype gives the list of dunder or magic methods"
   ]
  },
  {
   "cell_type": "code",
   "execution_count": 61,
   "id": "ee70e7b6-7178-495a-8da9-4a442e1b487a",
   "metadata": {},
   "outputs": [],
   "source": [
    "class sample:\n",
    "    \n",
    "    def __init__(self):\n",
    "        self.mobile_number = 9965955955\n",
    "    def __str__(self):\n",
    "        return  \"this is the magic function\""
   ]
  },
  {
   "cell_type": "code",
   "execution_count": 62,
   "id": "a3e1cc6a-335c-4cdc-af72-7e1f62c56dcc",
   "metadata": {},
   "outputs": [],
   "source": [
    "obj1 = sample()"
   ]
  },
  {
   "cell_type": "code",
   "execution_count": 65,
   "id": "93a7a45d-9ce4-484f-baf6-5159e2a031d9",
   "metadata": {},
   "outputs": [
    {
     "name": "stdout",
     "output_type": "stream",
     "text": [
      "this is the magic function\n"
     ]
    }
   ],
   "source": [
    "print (obj1)"
   ]
  },
  {
   "cell_type": "markdown",
   "id": "7d4760de-965d-4a51-bed4-7bf28bbb2eba",
   "metadata": {},
   "source": [
    "__str__ is the magic function, so that we can supply what can be printed when the print function is called."
   ]
  },
  {
   "cell_type": "markdown",
   "id": "797832ec-6c17-44c6-be41-c180c10fc366",
   "metadata": {},
   "source": [
    "# Property Decorators Getters, Setters, And Deletes"
   ]
  },
  {
   "cell_type": "code",
   "execution_count": 137,
   "id": "9dab8098-dfdf-4e5d-be24-dd7520b5dc4c",
   "metadata": {},
   "outputs": [],
   "source": [
    "class pwskills:\n",
    "    \n",
    "    def __init__(self, course_price, course_name):\n",
    "        self.__couse_price =  course_price\n",
    "        self.course_name = course_name\n",
    "        \n",
    "    @property\n",
    "    def course_price_access(self):\n",
    "        return self.__couse_price\n",
    "    \n",
    "    @course_price_access.setter\n",
    "    def couse_price_set(self, price):\n",
    "        if price <=3500:\n",
    "            pass\n",
    "        else:\n",
    "            self.__couse_price = price"
   ]
  },
  {
   "cell_type": "code",
   "execution_count": 138,
   "id": "4b51055e-0293-469c-aa88-383c194eb891",
   "metadata": {},
   "outputs": [],
   "source": [
    "pw = pwskills(3500, \"Data science masters\")"
   ]
  },
  {
   "cell_type": "markdown",
   "id": "e17dc040-0f79-4587-80d9-bd8ca4c45964",
   "metadata": {},
   "source": [
    "Private and protected variables are not visible to users. "
   ]
  },
  {
   "cell_type": "code",
   "execution_count": 139,
   "id": "39f4721e-75b4-446e-a255-490c1f97e9ff",
   "metadata": {},
   "outputs": [
    {
     "data": {
      "text/plain": [
       "3500"
      ]
     },
     "execution_count": 139,
     "metadata": {},
     "output_type": "execute_result"
    }
   ],
   "source": [
    "pw.course_price_access"
   ]
  },
  {
   "cell_type": "code",
   "execution_count": 141,
   "id": "81b9e18f-1f7b-4d6e-aeb0-21a5c57739aa",
   "metadata": {},
   "outputs": [
    {
     "data": {
      "text/plain": [
       "3500"
      ]
     },
     "execution_count": 141,
     "metadata": {},
     "output_type": "execute_result"
    }
   ],
   "source": [
    "pw.couse_price_set"
   ]
  }
 ],
 "metadata": {
  "kernelspec": {
   "display_name": "Python 3 (ipykernel)",
   "language": "python",
   "name": "python3"
  },
  "language_info": {
   "codemirror_mode": {
    "name": "ipython",
    "version": 3
   },
   "file_extension": ".py",
   "mimetype": "text/x-python",
   "name": "python",
   "nbconvert_exporter": "python",
   "pygments_lexer": "ipython3",
   "version": "3.10.8"
  }
 },
 "nbformat": 4,
 "nbformat_minor": 5
}
