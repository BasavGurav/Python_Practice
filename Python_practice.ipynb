{
 "cells": [
  {
   "cell_type": "code",
   "execution_count": 1,
   "id": "38449fdf-da06-4eb3-b83c-4cd7bc0963ea",
   "metadata": {},
   "outputs": [],
   "source": [
    "#Python Programming Practice"
   ]
  },
  {
   "cell_type": "code",
   "execution_count": 8,
   "id": "20cdbec2-140c-40ca-90b7-2c284be7c5ef",
   "metadata": {},
   "outputs": [],
   "source": [
    "#1.Write a program to demostrate different number data types in python"
   ]
  },
  {
   "cell_type": "code",
   "execution_count": 9,
   "id": "90b20332-344b-453f-bb66-af7068aab4a0",
   "metadata": {},
   "outputs": [
    {
     "name": "stdout",
     "output_type": "stream",
     "text": [
      "a is type of <class 'int'>\n",
      "b is type of <class 'float'>\n",
      "c is type of <class 'complex'>\n"
     ]
    }
   ],
   "source": [
    "a = 10 #integer\n",
    "b=10.5 #float\n",
    "c=2.05J #Complex\n",
    "print (\"a is type of\", type(a)) \n",
    "print (\"b is type of\", type(b)) \n",
    "print (\"c is type of\", type(c)) "
   ]
  },
  {
   "cell_type": "markdown",
   "id": "e1ae3431-d25e-4b77-bec0-11912af9a79e",
   "metadata": {},
   "source": [
    "2. Write a program to perform different Arithmetic Operations on numbers in Python."
   ]
  },
  {
   "cell_type": "code",
   "execution_count": 5,
   "id": "a95578ca-47a0-4e86-9830-e54ca1541ab0",
   "metadata": {},
   "outputs": [
    {
     "name": "stdin",
     "output_type": "stream",
     "text": [
      "Please enter the first value of the integer 12\n",
      "Please enter the second value of the integer 10\n"
     ]
    },
    {
     "name": "stdout",
     "output_type": "stream",
     "text": [
      "the addition of a and b 22\n",
      "the substraction of a and b 2\n",
      "multiplication of a and b 120\n",
      "divison of a and b  1.2\n",
      "reminder of a and b 2\n",
      "floor devision of a and b 1\n",
      "exponent of a and b 61917364224\n"
     ]
    }
   ],
   "source": [
    "a = int(input(\"Please enter the first value of the integer\"))\n",
    "b = int(input(\"Please enter the second value of the integer\"))\n",
    "print (\"the addition of a and b\", a+b)\n",
    "print (\"the substraction of a and b\", a-b)\n",
    "print (\"multiplication of a and b\", a*b)\n",
    "print (\"divison of a and b \", a/b)\n",
    "print (\"reminder of a and b\", a%b)\n",
    "print (\"floor devision of a and b\", a//b)\n",
    "print (\"exponent of a and b\", a**b)"
   ]
  },
  {
   "cell_type": "markdown",
   "id": "4b381f09-0eff-4ff7-860f-736450441aa4",
   "metadata": {},
   "source": [
    "3. Write a program to create, concatenate and print a string and accessing sub-string from a given string."
   ]
  },
  {
   "cell_type": "code",
   "execution_count": 6,
   "id": "13a9ea9b-4ee6-4307-b915-b79e675d6fae",
   "metadata": {},
   "outputs": [
    {
     "name": "stdin",
     "output_type": "stream",
     "text": [
      "Please enter the first string hello\n",
      "Please enter the second string world\n"
     ]
    },
    {
     "name": "stdout",
     "output_type": "stream",
     "text": [
      "First string is hello\n",
      "Second string is world\n",
      "concatenation of string1 and string2 helloworld\n",
      "Sub string from the first string he\n"
     ]
    }
   ],
   "source": [
    "String1 = input(\"Please enter the first string\")\n",
    "String2 = input(\"Please enter the second string\")\n",
    "print (\"First string is\", String1)\n",
    "print (\"Second string is\", String2)\n",
    "print (\"concatenation of string1 and string2\", String1+String2)\n",
    "print (\"Sub string from the first string\", String1[:2])"
   ]
  },
  {
   "cell_type": "markdown",
   "id": "bd0e8750-8273-49a1-91f3-2d9a12fca1cc",
   "metadata": {},
   "source": [
    "Write a python script to print the current date in the following format “Sun May 29 02:26:23 IST 2017”"
   ]
  },
  {
   "cell_type": "code",
   "execution_count": 7,
   "id": "f6eca51d-006a-4862-8049-dc50d9807f99",
   "metadata": {},
   "outputs": [],
   "source": [
    "from datetime import datetime"
   ]
  },
  {
   "cell_type": "code",
   "execution_count": 48,
   "id": "543b849c-b706-4738-b548-54339e8e5e94",
   "metadata": {},
   "outputs": [
    {
     "data": {
      "text/plain": [
       "['__add__',\n",
       " '__class__',\n",
       " '__delattr__',\n",
       " '__dir__',\n",
       " '__doc__',\n",
       " '__eq__',\n",
       " '__format__',\n",
       " '__ge__',\n",
       " '__getattribute__',\n",
       " '__gt__',\n",
       " '__hash__',\n",
       " '__init__',\n",
       " '__init_subclass__',\n",
       " '__le__',\n",
       " '__lt__',\n",
       " '__ne__',\n",
       " '__new__',\n",
       " '__radd__',\n",
       " '__reduce__',\n",
       " '__reduce_ex__',\n",
       " '__repr__',\n",
       " '__rsub__',\n",
       " '__setattr__',\n",
       " '__sizeof__',\n",
       " '__str__',\n",
       " '__sub__',\n",
       " '__subclasshook__',\n",
       " 'astimezone',\n",
       " 'combine',\n",
       " 'ctime',\n",
       " 'date',\n",
       " 'day',\n",
       " 'dst',\n",
       " 'fold',\n",
       " 'fromisocalendar',\n",
       " 'fromisoformat',\n",
       " 'fromordinal',\n",
       " 'fromtimestamp',\n",
       " 'hour',\n",
       " 'isocalendar',\n",
       " 'isoformat',\n",
       " 'isoweekday',\n",
       " 'max',\n",
       " 'microsecond',\n",
       " 'min',\n",
       " 'minute',\n",
       " 'month',\n",
       " 'now',\n",
       " 'replace',\n",
       " 'resolution',\n",
       " 'second',\n",
       " 'strftime',\n",
       " 'strptime',\n",
       " 'time',\n",
       " 'timestamp',\n",
       " 'timetuple',\n",
       " 'timetz',\n",
       " 'today',\n",
       " 'toordinal',\n",
       " 'tzinfo',\n",
       " 'tzname',\n",
       " 'utcfromtimestamp',\n",
       " 'utcnow',\n",
       " 'utcoffset',\n",
       " 'utctimetuple',\n",
       " 'weekday',\n",
       " 'year']"
      ]
     },
     "execution_count": 48,
     "metadata": {},
     "output_type": "execute_result"
    }
   ],
   "source": [
    "dir(datetime)"
   ]
  },
  {
   "cell_type": "code",
   "execution_count": 12,
   "id": "19e43d41-7f26-4b27-987a-94e549149fe1",
   "metadata": {},
   "outputs": [],
   "source": [
    "currentdatetime = datetime.now()"
   ]
  },
  {
   "cell_type": "code",
   "execution_count": 13,
   "id": "c4678249-62b3-41bb-b9de-b267a95008a9",
   "metadata": {},
   "outputs": [
    {
     "data": {
      "text/plain": [
       "datetime.datetime(2023, 6, 17, 13, 21, 34, 524115)"
      ]
     },
     "execution_count": 13,
     "metadata": {},
     "output_type": "execute_result"
    }
   ],
   "source": [
    "currentdatetime"
   ]
  },
  {
   "cell_type": "code",
   "execution_count": 14,
   "id": "5fb3c736-b513-4d15-a386-1ed9af066622",
   "metadata": {},
   "outputs": [
    {
     "name": "stdout",
     "output_type": "stream",
     "text": [
      "13,21,34\n"
     ]
    }
   ],
   "source": [
    "currentdatetime = currentdatetime.strftime(\"%H,%M,%S\")\n",
    "print (currentdatetime)"
   ]
  },
  {
   "cell_type": "code",
   "execution_count": 46,
   "id": "747f7020-15ac-46b2-884b-f5c93010cd95",
   "metadata": {},
   "outputs": [
    {
     "name": "stdout",
     "output_type": "stream",
     "text": [
      "Sat Jun 17 13:48:32 UTC 2023\n"
     ]
    },
    {
     "data": {
      "text/plain": [
       "'\\n%a : Abbreviated weekday name\\n%b : Abbreviated month name\\n%d : Day of the month as the decimal number [01, 31]\\n%H : Hour (24-hour Clock) as a decimal number [0,23]\\n%M : MInute as a decimal number [0,59]\\n%S : Second as the decimal number\\n%Z : Time zone name (No characters if no time zone exists). \\n%Y : Year with century as a decimal number'"
      ]
     },
     "execution_count": 46,
     "metadata": {},
     "output_type": "execute_result"
    }
   ],
   "source": [
    "import time\n",
    "ltime = time.localtime()\n",
    "print (time.strftime(\"%a %b %d %H:%M:%S %Z %Y\", ltime))\n",
    "\n",
    "'''\n",
    "%a : Abbreviated weekday name\n",
    "%b : Abbreviated month name\n",
    "%d : Day of the month as the decimal number [01, 31]\n",
    "%H : Hour (24-hour Clock) as a decimal number [0,23]\n",
    "%M : MInute as a decimal number [0,59]\n",
    "%S : Second as the decimal number\n",
    "%Z : Time zone name (No characters if no time zone exists). \n",
    "%Y : Year with century as a decimal number'''\n"
   ]
  },
  {
   "cell_type": "markdown",
   "id": "d7b8486a-fd19-457f-9b68-22589f13b2a0",
   "metadata": {},
   "source": [
    "5. Write a program to create, append, and remove lists in python."
   ]
  },
  {
   "cell_type": "code",
   "execution_count": 72,
   "id": "53f16fb1-7b7a-47b5-a359-2228b0dcbc04",
   "metadata": {},
   "outputs": [],
   "source": [
    "my_empty_list = []\n",
    "my_int_list = [1, 2 , 3]\n",
    "my_string_list = ['hi', 'hello', 'world']\n",
    "#mixed list\n",
    "mixed_list = [1, 'hi', 2.5]\n",
    "#nested list\n",
    "nested_list = [1, [1, 'nested', 89, 8.0], 'hello', (1, 89), {'Hi':'Basav'}]"
   ]
  },
  {
   "cell_type": "code",
   "execution_count": 60,
   "id": "93ea505b-2768-43a6-8ecf-f40343d8156f",
   "metadata": {},
   "outputs": [
    {
     "data": {
      "text/plain": [
       "{'Hi': 'Basav'}"
      ]
     },
     "execution_count": 60,
     "metadata": {},
     "output_type": "execute_result"
    }
   ],
   "source": [
    "nested_list[4]"
   ]
  },
  {
   "cell_type": "code",
   "execution_count": 50,
   "id": "15bbcc04-cd64-4768-ab58-c2843dde5f67",
   "metadata": {},
   "outputs": [
    {
     "data": {
      "text/plain": [
       "[1, 2, 3]"
      ]
     },
     "execution_count": 50,
     "metadata": {},
     "output_type": "execute_result"
    }
   ],
   "source": [
    "my_int_list"
   ]
  },
  {
   "cell_type": "code",
   "execution_count": 51,
   "id": "0315827e-adcc-4f73-ad76-00eee40a2d2c",
   "metadata": {},
   "outputs": [],
   "source": [
    "#appending the additional element into the list\n",
    "my_int_list.append(4)"
   ]
  },
  {
   "cell_type": "code",
   "execution_count": 52,
   "id": "fdd0f719-11ba-47ca-a4f0-4a567857ce0a",
   "metadata": {},
   "outputs": [
    {
     "data": {
      "text/plain": [
       "[1, 2, 3, 4]"
      ]
     },
     "execution_count": 52,
     "metadata": {},
     "output_type": "execute_result"
    }
   ],
   "source": [
    "my_int_list"
   ]
  },
  {
   "cell_type": "code",
   "execution_count": 53,
   "id": "ad8e3431-bbc2-4a34-b6d4-6dd3f2c7dd3d",
   "metadata": {},
   "outputs": [
    {
     "data": {
      "text/plain": [
       "['hi', 'hello', 'world']"
      ]
     },
     "execution_count": 53,
     "metadata": {},
     "output_type": "execute_result"
    }
   ],
   "source": [
    "my_string_list"
   ]
  },
  {
   "cell_type": "code",
   "execution_count": 63,
   "id": "6e5a09d7-11f8-4900-ac5b-252a56a14a09",
   "metadata": {},
   "outputs": [],
   "source": [
    "#adding more than 1 elements into the list by extend method\n",
    "my_string_list.extend(my_int_list)"
   ]
  },
  {
   "cell_type": "code",
   "execution_count": 64,
   "id": "982ad5ec-9080-44cc-9df4-ee48aec3f08a",
   "metadata": {},
   "outputs": [
    {
     "data": {
      "text/plain": [
       "['hi', 'hello', 'world', 1, 2, 3]"
      ]
     },
     "execution_count": 64,
     "metadata": {},
     "output_type": "execute_result"
    }
   ],
   "source": [
    "my_string_list"
   ]
  },
  {
   "cell_type": "markdown",
   "id": "787fda85-d612-4edb-beb2-f89afe67e3fe",
   "metadata": {},
   "source": [
    "#Delete/remove List elements\n",
    "\n",
    "Elements can deleted by del keyword"
   ]
  },
  {
   "cell_type": "code",
   "execution_count": 65,
   "id": "800a6822-9b1a-4fd7-b97e-d5e5551faf42",
   "metadata": {},
   "outputs": [
    {
     "data": {
      "text/plain": [
       "['hi', 'hello', 'world', 1, 2, 3]"
      ]
     },
     "execution_count": 65,
     "metadata": {},
     "output_type": "execute_result"
    }
   ],
   "source": [
    "my_string_list"
   ]
  },
  {
   "cell_type": "code",
   "execution_count": 66,
   "id": "a1472050-c15f-482c-b00d-5633b7520b3d",
   "metadata": {},
   "outputs": [],
   "source": [
    "del my_string_list[1]"
   ]
  },
  {
   "cell_type": "code",
   "execution_count": 67,
   "id": "b531646c-12ba-4c7a-9233-3d98548c06ef",
   "metadata": {},
   "outputs": [
    {
     "data": {
      "text/plain": [
       "['hi', 'world', 1, 2, 3]"
      ]
     },
     "execution_count": 67,
     "metadata": {},
     "output_type": "execute_result"
    }
   ],
   "source": [
    "my_string_list"
   ]
  },
  {
   "cell_type": "code",
   "execution_count": 68,
   "id": "bdbfb0d7-47e4-4c4d-a306-ca4b368bcb21",
   "metadata": {},
   "outputs": [],
   "source": [
    "del my_string_list[1:3]"
   ]
  },
  {
   "cell_type": "code",
   "execution_count": 69,
   "id": "c44ecf11-db1d-4a4c-bf75-2e8cc4bdae8d",
   "metadata": {},
   "outputs": [
    {
     "data": {
      "text/plain": [
       "['hi', 2, 3]"
      ]
     },
     "execution_count": 69,
     "metadata": {},
     "output_type": "execute_result"
    }
   ],
   "source": [
    "my_string_list"
   ]
  },
  {
   "cell_type": "code",
   "execution_count": 70,
   "id": "43dce83f-df67-4775-83bf-686bd3d002e3",
   "metadata": {},
   "outputs": [],
   "source": [
    "del my_string_list"
   ]
  },
  {
   "cell_type": "code",
   "execution_count": 71,
   "id": "909deca7-3075-4c99-bbbb-e320504d0e92",
   "metadata": {},
   "outputs": [
    {
     "ename": "NameError",
     "evalue": "name 'my_string_list' is not defined",
     "output_type": "error",
     "traceback": [
      "\u001b[0;31m---------------------------------------------------------------------------\u001b[0m",
      "\u001b[0;31mNameError\u001b[0m                                 Traceback (most recent call last)",
      "Cell \u001b[0;32mIn[71], line 1\u001b[0m\n\u001b[0;32m----> 1\u001b[0m \u001b[43mmy_string_list\u001b[49m\n",
      "\u001b[0;31mNameError\u001b[0m: name 'my_string_list' is not defined"
     ]
    }
   ],
   "source": [
    "my_string_list"
   ]
  },
  {
   "cell_type": "markdown",
   "id": "b2be5b24-d74f-4b8d-a4fb-494890381337",
   "metadata": {},
   "source": [
    "##pop method"
   ]
  },
  {
   "cell_type": "code",
   "execution_count": 73,
   "id": "560b1fdb-f07a-436c-866d-3300fca9614a",
   "metadata": {},
   "outputs": [
    {
     "data": {
      "text/plain": [
       "[1, [1, 'nested', 89, 8.0], 'hello', (1, 89), {'Hi': 'Basav'}]"
      ]
     },
     "execution_count": 73,
     "metadata": {},
     "output_type": "execute_result"
    }
   ],
   "source": [
    "nested_list"
   ]
  },
  {
   "cell_type": "code",
   "execution_count": 74,
   "id": "2dad4726-56c1-483e-8226-93b8678bb99b",
   "metadata": {},
   "outputs": [
    {
     "data": {
      "text/plain": [
       "{'Hi': 'Basav'}"
      ]
     },
     "execution_count": 74,
     "metadata": {},
     "output_type": "execute_result"
    }
   ],
   "source": [
    "nested_list.pop()"
   ]
  },
  {
   "cell_type": "code",
   "execution_count": 75,
   "id": "23a7e487-7601-48a2-ba4e-6183dfd6839c",
   "metadata": {},
   "outputs": [
    {
     "data": {
      "text/plain": [
       "[1, [1, 'nested', 89, 8.0], 'hello', (1, 89)]"
      ]
     },
     "execution_count": 75,
     "metadata": {},
     "output_type": "execute_result"
    }
   ],
   "source": [
    "nested_list"
   ]
  },
  {
   "cell_type": "code",
   "execution_count": 76,
   "id": "d676b630-2054-4eda-8142-4fde7a3452b8",
   "metadata": {},
   "outputs": [
    {
     "data": {
      "text/plain": [
       "[1, 'nested', 89, 8.0]"
      ]
     },
     "execution_count": 76,
     "metadata": {},
     "output_type": "execute_result"
    }
   ],
   "source": [
    "nested_list.pop(1)"
   ]
  },
  {
   "cell_type": "code",
   "execution_count": 77,
   "id": "af4e1dc4-4dea-4e9d-9045-4845548ca387",
   "metadata": {},
   "outputs": [
    {
     "data": {
      "text/plain": [
       "[1, 'hello', (1, 89)]"
      ]
     },
     "execution_count": 77,
     "metadata": {},
     "output_type": "execute_result"
    }
   ],
   "source": [
    "nested_list"
   ]
  },
  {
   "cell_type": "markdown",
   "id": "ffa16b1b-3901-4543-bbee-7c07464f6bc8",
   "metadata": {},
   "source": [
    "#remove"
   ]
  },
  {
   "cell_type": "code",
   "execution_count": 85,
   "id": "f692c671-cdd0-4490-9953-a52e7a83423a",
   "metadata": {},
   "outputs": [],
   "source": [
    "#need to specify which element to remove\n",
    "nested_list.remove('hello')"
   ]
  },
  {
   "cell_type": "code",
   "execution_count": null,
   "id": "91e0f949-13a4-49bf-abee-96cd2bd68d12",
   "metadata": {},
   "outputs": [],
   "source": []
  }
 ],
 "metadata": {
  "kernelspec": {
   "display_name": "Python 3 (ipykernel)",
   "language": "python",
   "name": "python3"
  },
  "language_info": {
   "codemirror_mode": {
    "name": "ipython",
    "version": 3
   },
   "file_extension": ".py",
   "mimetype": "text/x-python",
   "name": "python",
   "nbconvert_exporter": "python",
   "pygments_lexer": "ipython3",
   "version": "3.10.8"
  }
 },
 "nbformat": 4,
 "nbformat_minor": 5
}
